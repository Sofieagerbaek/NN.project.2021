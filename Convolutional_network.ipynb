{
  "nbformat": 4,
  "nbformat_minor": 0,
  "metadata": {
    "colab": {
      "name": "Convolutional_network.ipynb",
      "provenance": [],
      "collapsed_sections": [
        "awHhu5XmOlTh",
        "Kh2kiNas45P6",
        "fZ5kdHOh4RBp",
        "y5I6gIql4C6h",
        "MXwR06hq4Kau",
        "mgjNzxD-OYuH",
        "FfA1LPKRoicd",
        "F7nJCIuwZc2n"
      ],
      "include_colab_link": true
    },
    "kernelspec": {
      "name": "python3",
      "display_name": "Python 3"
    },
    "language_info": {
      "name": "python"
    }
  },
  "cells": [
    {
      "cell_type": "markdown",
      "metadata": {
        "id": "view-in-github",
        "colab_type": "text"
      },
      "source": [
        "<a href=\"https://colab.research.google.com/github/Sofieagerbaek/NN.project.2021/blob/master/Convolutional_network.ipynb\" target=\"_parent\"><img src=\"https://colab.research.google.com/assets/colab-badge.svg\" alt=\"Open In Colab\"/></a>"
      ]
    },
    {
      "cell_type": "markdown",
      "metadata": {
        "id": "awHhu5XmOlTh"
      },
      "source": [
        "# Loading packages"
      ]
    },
    {
      "cell_type": "code",
      "metadata": {
        "id": "64HJVkAj5dCR"
      },
      "source": [
        "import numpy as np\n",
        "import pandas as pd\n",
        "import torch\n",
        "import torch.optim as optim\n",
        "import torch.nn as nn\n",
        "from torch.utils.data import Dataset, TensorDataset, DataLoader\n",
        "import copy\n",
        "\n",
        "import matplotlib.pyplot as plt\n",
        "%matplotlib inline\n",
        "plt.style.use('fivethirtyeight')"
      ],
      "execution_count": null,
      "outputs": []
    },
    {
      "cell_type": "markdown",
      "metadata": {
        "id": "Kh2kiNas45P6"
      },
      "source": [
        "# Loading data into tensors of right dimension\n"
      ]
    },
    {
      "cell_type": "code",
      "metadata": {
        "id": "HW1VKuqyASPV"
      },
      "source": [
        "train = pd.read_csv(\"train_chr20_short.tsv\", sep = \"\\t\")\n",
        "train_features = torch.as_tensor(train.iloc[:,5:].values).float()\n",
        "train_labels = torch.as_tensor(train.iloc[:,4].values).float()\n",
        "#train_labels = torch.unsqueeze(train_labels, 1)"
      ],
      "execution_count": null,
      "outputs": []
    },
    {
      "cell_type": "code",
      "metadata": {
        "id": "RKAgE-4g_kId"
      },
      "source": [
        "val = pd.read_csv(\"val_chr20_short.tsv\", sep = \"\\t\")\n",
        "val_features = torch.as_tensor(val.iloc[:,5:].values).float()\n",
        "val_labels = torch.as_tensor(val.iloc[:,4].values).float()\n",
        "#val_labels = torch.unsqueeze(val_labels, 1)"
      ],
      "execution_count": null,
      "outputs": []
    },
    {
      "cell_type": "code",
      "source": [
        "train_features = torch.unsqueeze(train_features, 1)\n",
        "val_features = torch.unsqueeze(val_features, 1)\n",
        "train_labels = torch.unsqueeze(train_labels, 1)\n",
        "val_labels = torch.unsqueeze(val_labels, 1)"
      ],
      "metadata": {
        "id": "26uCfmBVwPfk"
      },
      "execution_count": null,
      "outputs": []
    },
    {
      "cell_type": "code",
      "source": [
        "train_labels.size()"
      ],
      "metadata": {
        "colab": {
          "base_uri": "https://localhost:8080/"
        },
        "id": "t3cziK3zwatE",
        "outputId": "d3fc9eb9-41b8-438f-d608-2231778885ea"
      },
      "execution_count": null,
      "outputs": [
        {
          "output_type": "execute_result",
          "data": {
            "text/plain": [
              "torch.Size([18000, 1])"
            ]
          },
          "metadata": {},
          "execution_count": 14
        }
      ]
    },
    {
      "cell_type": "code",
      "source": [
        "val_labels = torch.unsqueeze(val_labels, 1)"
      ],
      "metadata": {
        "id": "gKmwzYWdRoC4"
      },
      "execution_count": null,
      "outputs": []
    },
    {
      "cell_type": "code",
      "source": [
        "np.mean(val_labels[:,0].numpy())"
      ],
      "metadata": {
        "colab": {
          "base_uri": "https://localhost:8080/"
        },
        "id": "0yxbPU0NSIGE",
        "outputId": "89b484fe-6e17-4942-f611-2662340fd560"
      },
      "execution_count": null,
      "outputs": [
        {
          "output_type": "execute_result",
          "data": {
            "text/plain": [
              "0.33552825"
            ]
          },
          "metadata": {},
          "execution_count": 16
        }
      ]
    },
    {
      "cell_type": "markdown",
      "source": [
        "\n",
        "#My class"
      ],
      "metadata": {
        "id": "fZ5kdHOh4RBp"
      }
    },
    {
      "cell_type": "code",
      "source": [
        "class conv_network(torch.nn.Module):\n",
        "\n",
        "  def __init__(self):\n",
        "    super(conv_network, self).__init__()\n",
        "    self.conv1 = torch.nn.Conv1d(1, 12, 6, 4, 1) \n",
        "    self.bnorm1 = torch.nn.BatchNorm1d(12)\n",
        "    self.pool = torch.nn.MaxPool1d(kernel_size=3)\n",
        "    self.flatten = torch.nn.Flatten(start_dim=1)\n",
        "    self.h1 = torch.nn.Linear(804, 100)\n",
        "    self.bnorm2 = torch.nn.BatchNorm1d(100)\n",
        "    self.output_layer = torch.nn.Linear(100, 1)\n",
        "    self.dropout = torch.nn.Dropout(0.5)\n",
        "  \n",
        "  def forward(self, x):\n",
        "    x = self.bnorm1(self.conv1(x))\n",
        "    x = torch.nn.functional.relu(self.pool(x))\n",
        "    x = self.dropout(x)\n",
        "    x = self.flatten(x)\n",
        "    x = torch.nn.functional.relu(self.bnorm2(self.h1(x)))\n",
        "    x = self.dropout(x)\n",
        "    y = self.output_layer(x)\n",
        "\n",
        "    return y\n"
      ],
      "metadata": {
        "id": "baHd8t-uZ2ct"
      },
      "execution_count": null,
      "outputs": []
    },
    {
      "cell_type": "markdown",
      "source": [
        "#Dummy data"
      ],
      "metadata": {
        "id": "3JLWM1C64UVB"
      }
    },
    {
      "cell_type": "code",
      "source": [
        "#To tensors med samme dimensioner som vores data fyldt med randoms (bare 100 rækker)\n",
        "train_feat_dummy = torch.rand(100, 804)\n",
        "train_lab_dummy = torch.rand(100,1)"
      ],
      "metadata": {
        "id": "sXcAWQsRZ3_S"
      },
      "execution_count": null,
      "outputs": []
    },
    {
      "cell_type": "code",
      "source": [
        "#Tensors laves 2 dimensionelle\n",
        "train_feat_dummy = torch.unsqueeze(train_feat_dummy, 1)\n",
        "train_lab_dummy = torch.unsqueeze(train_lab_dummy, 1)"
      ],
      "metadata": {
        "id": "hDsR-X1A_xtU"
      },
      "execution_count": null,
      "outputs": []
    },
    {
      "cell_type": "code",
      "source": [
        "train_lab_dummy[0: ,0,0].numpy()"
      ],
      "metadata": {
        "colab": {
          "base_uri": "https://localhost:8080/"
        },
        "id": "uvCbhVQgMsqc",
        "outputId": "6dbd55a0-ff0f-4f00-8e81-8140243c861a"
      },
      "execution_count": null,
      "outputs": [
        {
          "output_type": "execute_result",
          "data": {
            "text/plain": [
              "array([0.9553725 , 0.27054453, 0.593577  , 0.6849403 , 0.34759337,\n",
              "       0.8692264 , 0.43664044, 0.51670736, 0.27360326, 0.7870843 ,\n",
              "       0.56631577, 0.40119714, 0.00445557, 0.5144711 , 0.5139819 ,\n",
              "       0.91530836, 0.8719524 , 0.6234234 , 0.9095741 , 0.01347429,\n",
              "       0.65195274, 0.99361056, 0.85269195, 0.28306073, 0.02648866,\n",
              "       0.13519764, 0.46063197, 0.5544207 , 0.8149406 , 0.38192815,\n",
              "       0.12963998, 0.23082256, 0.69838834, 0.75252897, 0.7604571 ,\n",
              "       0.86901003, 0.51978225, 0.04409802, 0.4621737 , 0.09684163,\n",
              "       0.19012505, 0.15636754, 0.4118169 , 0.62845397, 0.42780262,\n",
              "       0.96697843, 0.6978862 , 0.2418518 , 0.98753905, 0.58660156,\n",
              "       0.77097964, 0.69061935, 0.87195545, 0.2493397 , 0.6597207 ,\n",
              "       0.0059008 , 0.23624337, 0.05311042, 0.36022907, 0.93069124,\n",
              "       0.36512297, 0.61711663, 0.4583106 , 0.08580458, 0.46704733,\n",
              "       0.03067154, 0.4911313 , 0.6811026 , 0.42742288, 0.9321904 ,\n",
              "       0.30842042, 0.3576271 , 0.9883837 , 0.43172985, 0.18458033,\n",
              "       0.54268855, 0.12143826, 0.0520401 , 0.7156094 , 0.18794435,\n",
              "       0.68026227, 0.11806446, 0.6039432 , 0.838567  , 0.90346706,\n",
              "       0.47738332, 0.8149836 , 0.08733445, 0.27663213, 0.41661334,\n",
              "       0.5294375 , 0.506968  , 0.8070879 , 0.85294807, 0.98424304,\n",
              "       0.3870616 , 0.02289629, 0.8603072 , 0.05880672, 0.11524576],\n",
              "      dtype=float32)"
            ]
          },
          "metadata": {},
          "execution_count": 66
        }
      ]
    },
    {
      "cell_type": "code",
      "source": [
        "y_true_data = train_lab_dummy[10:100,0,0].numpy()\n",
        "# y_pred_data = train_lab_dummy[10:100]\n",
        "train_lab_dummy[0].numpy()\n",
        "plt.figure(figsize=(50,5))\n",
        "plt.plot(y_true_data, alpha=0.5, label=\"true y\")\n",
        "plt.hlines(np.mean(y_true_data), 0, 100, color='black', alpha=0.5, label=\"mean(true y)\")\n",
        "plt.legend()"
      ],
      "metadata": {
        "colab": {
          "base_uri": "https://localhost:8080/",
          "height": 121
        },
        "id": "fV1NTK_xr-j4",
        "outputId": "de50d2cc-e1f0-4098-943f-4791040cf7cd"
      },
      "execution_count": null,
      "outputs": [
        {
          "output_type": "execute_result",
          "data": {
            "text/plain": [
              "<matplotlib.legend.Legend at 0x7f3a28e73a10>"
            ]
          },
          "metadata": {},
          "execution_count": 62
        },
        {
          "output_type": "display_data",
          "data": {
            "image/png": "[encoded data removed]",
            "text/plain": [
              "<Figure size 3600x360 with 1 Axes>"
            ]
          },
          "metadata": {}
        }
      ]
    },
    {
      "cell_type": "code",
      "source": [
        "train_data = TensorDataset(train_feat_dummy, train_lab_dummy)\n",
        "train_loader = DataLoader(dataset = train_data, batch_size = 16, shuffle = True) "
      ],
      "metadata": {
        "id": "wsb-fEGnefDh"
      },
      "execution_count": null,
      "outputs": []
    },
    {
      "cell_type": "markdown",
      "source": [
        "#Helper functions"
      ],
      "metadata": {
        "id": "y5I6gIql4C6h"
      }
    },
    {
      "cell_type": "code",
      "source": [
        "def make_train_step(model, loss_fn, optimizer):\n",
        "    def perform_train_step(x, y):\n",
        "        model.train()\n",
        "        y_pred = model(x)\n",
        "        loss = loss_fn(y_pred, y)\n",
        "        loss.backward()\n",
        "        model.float()\n",
        "        optimizer.step()\n",
        "        optimizer.zero_grad()\n",
        "        return loss.item()\n",
        "\n",
        "    return perform_train_step"
      ],
      "metadata": {
        "id": "N6cVP9l0fEqZ"
      },
      "execution_count": null,
      "outputs": []
    },
    {
      "cell_type": "code",
      "source": [
        "def make_validation_step(model, loss_fn):\n",
        "\tdef perform_validation_step(x, y):\n",
        "\t\tmodel.eval()\n",
        "\t\ty_pred = model(x)\n",
        "\t\tloss = loss_fn(y_pred, y)\n",
        "\t\treturn loss.item()\n",
        "\n",
        "\treturn perform_validation_step"
      ],
      "metadata": {
        "id": "SarOEazJJovL"
      },
      "execution_count": null,
      "outputs": []
    },
    {
      "cell_type": "code",
      "source": [
        "def mini_batch_descent(data_loader, step):\n",
        "  losses = []\n",
        "  for x_batch, y_batch in data_loader:\n",
        "    mini_batch_loss = step(x_batch, y_batch)\n",
        "    losses.append(mini_batch_loss)\n",
        "  loss = np.mean(losses)\n",
        "  return loss"
      ],
      "metadata": {
        "id": "mCu6L9ZUfLeZ"
      },
      "execution_count": null,
      "outputs": []
    },
    {
      "cell_type": "code",
      "source": [
        "#En sequential model, som kan bruges til at tjekke dataets dimensioner gennem lagene\n",
        "\n",
        "try_cnn = torch.nn.Sequential(\n",
        "    torch.nn.Conv1d(in_channels = 1, out_channels = 12, kernel_size = 6, stride =  2, padding = 1), #1x804 -> 12x201\n",
        "    nn.BatchNorm1d(num_features=12), \n",
        "    torch.nn.MaxPool1d(3),#12x201 -> 12x67\n",
        "    # nn.ReLU(),\n",
        "    # nn.Dropout(p = 0.5),\n",
        "    # nn.Flatten(start_dim=1), #12x67 -> 804\n",
        "    #nn.Linear(in_features=804, out_features=100),\n",
        "    # nn.BatchNorm1d(num_features=100),\n",
        "    # nn.ReLU(),\n",
        "    # # nn.Dropout(p = 0.5),\n",
        "\n",
        "    # nn.Linear(in_features=100, out_features=1)\n",
        "    )\n",
        "\n",
        "# try_cnn(train_feat_dummy).shape"
      ],
      "metadata": {
        "id": "GlPIOX4_k1uD"
      },
      "execution_count": null,
      "outputs": []
    },
    {
      "cell_type": "markdown",
      "source": [
        "#Neural network "
      ],
      "metadata": {
        "id": "MXwR06hq4Kau"
      }
    },
    {
      "cell_type": "code",
      "source": [
        "train_data = TensorDataset(train_features, train_labels)\n",
        "val_data = TensorDataset(val_features, val_labels)\n",
        "\n",
        "train_loader = DataLoader(dataset = train_data, batch_size = 16, shuffle = True)\n",
        "val_loader = DataLoader(dataset = val_data, batch_size=16)"
      ],
      "metadata": {
        "id": "_tsLiGlXZAPS"
      },
      "execution_count": null,
      "outputs": []
    },
    {
      "cell_type": "code",
      "source": [
        "#Initializing\n",
        "lr = 1e-4\n",
        "\n",
        "model = conv_network()\n",
        "loss = nn.MSELoss(reduction=\"mean\")\n",
        "optimizer = torch.optim.Adam(model.parameters(), lr=lr, weight_decay = 0.01)\n",
        "\n",
        "train_step = make_train_step(model, loss, optimizer)\n",
        "val_step = make_validation_step(model, loss)\n",
        "\n",
        "#Actual training loop\n",
        "\n",
        "n_epochs = 10\n",
        "\n",
        "train_losses = []\n",
        "val_losses = []\n",
        "min_loss = 1\n",
        "\n",
        "for epoch in range(n_epochs):\n",
        "  #training\n",
        "  train_loss = mini_batch_descent(train_loader, train_step)\n",
        "  train_losses.append(train_loss)\n",
        "  \n",
        "  with torch.no_grad():\n",
        "    val_loss = mini_batch_descent(val_loader, val_step)\n",
        "    val_losses.append(val_loss)\n",
        "\n",
        "    if val_loss < min_loss:\n",
        "      min_loss = val_loss\n",
        "      torch.save(copy.deepcopy(model.state_dict()), \"best_model.pt\")\n"
      ],
      "metadata": {
        "id": "CzbGYCssfOMu"
      },
      "execution_count": null,
      "outputs": []
    },
    {
      "cell_type": "code",
      "source": [
        "plt.plot(train_losses, label = \"train loss\")\n",
        "plt.plot(val_losses, label = \"validation loss\")\n",
        "plt.legend()"
      ],
      "metadata": {
        "id": "TwuoCvd8VK9u",
        "colab": {
          "base_uri": "https://localhost:8080/",
          "height": 299
        },
        "outputId": "ce95676f-af0f-4af4-8589-50ba91144031"
      },
      "execution_count": null,
      "outputs": [
        {
          "output_type": "execute_result",
          "data": {
            "text/plain": [
              "<matplotlib.legend.Legend at 0x7ff696c7a510>"
            ]
          },
          "metadata": {},
          "execution_count": 19
        },
        {
          "output_type": "display_data",
          "data": {
            "image/png": "[encoded data removed]",
            "text/plain": [
              "<Figure size 432x288 with 1 Axes>"
            ]
          },
          "metadata": {}
        }
      ]
    },
    {
      "cell_type": "markdown",
      "source": [
        "#Parameter tuning"
      ],
      "metadata": {
        "id": "mgjNzxD-OYuH"
      }
    },
    {
      "cell_type": "code",
      "source": [
        "class conv_para_network(torch.nn.Module):\n",
        "\n",
        "  def __init__(self, input_size, num_channels, conv_kernel_size, stride, pool_kernel_size, h1_size, padding=1):\n",
        "    super(conv_para_network, self).__init__()\n",
        "    self.conv1 = torch.nn.Conv1d(1, num_channels, conv_kernel_size, stride, padding) \n",
        "    conv1_size = ((input_size-conv_kernel_size+2*padding)//stride)+1\n",
        "    self.bnorm1 = torch.nn.BatchNorm1d(num_channels)\n",
        "    self.pool = torch.nn.MaxPool1d(kernel_size=pool_kernel_size)\n",
        "    self.flatten = torch.nn.Flatten(start_dim=1)\n",
        "    h1_in = (conv1_size//pool_kernel_size)*num_channels\n",
        "    self.h1 = torch.nn.Linear(h1_in, h1_size)\n",
        "    self.bnorm2 = torch.nn.BatchNorm1d(h1_size)\n",
        "    self.output_layer = torch.nn.Linear(h1_size, 1)\n",
        "    self.dropout = torch.nn.Dropout(0.5)\n",
        "  \n",
        "  def forward(self, x):\n",
        "    x = self.bnorm1(self.conv1(x))\n",
        "    x = torch.nn.functional.relu(self.pool(x))\n",
        "    x = self.dropout(x)\n",
        "    x = self.flatten(x)\n",
        "    x = torch.nn.functional.relu(self.bnorm2(self.h1(x)))\n",
        "    x = self.dropout(x)\n",
        "    y = self.output_layer(x)\n",
        "\n",
        "    return y"
      ],
      "metadata": {
        "id": "0-lPhJ7gOYZ9"
      },
      "execution_count": null,
      "outputs": []
    },
    {
      "cell_type": "code",
      "source": [
        "try_cnn = torch.nn.Sequential(\n",
        "    torch.nn.Conv1d(in_channels = 1, out_channels = 12, kernel_size = 4, stride = 4, padding=1), #1x804 -> 12x201\n",
        "    nn.BatchNorm1d(num_features=12), \n",
        "    torch.nn.MaxPool1d(2),#12x201 -> 12x67\n",
        "    nn.ReLU(),\n",
        "    nn.Dropout(p = 0.5),\n",
        "    nn.Flatten(start_dim=1), #12x67 -> 804\n",
        "    nn.Linear(in_features=((((804-4+2)//4)+1)//2)*12, out_features=100),\n",
        "    # nn.BatchNorm1d(num_features=100),\n",
        "    # nn.ReLU(),\n",
        "    # nn.Dropout(p = 0.5),\n",
        "\n",
        "    # nn.Linear(in_features=100, out_features=1)\n",
        ")\n",
        "\n",
        "try_cnn(train_features).shape"
      ],
      "metadata": {
        "colab": {
          "base_uri": "https://localhost:8080/"
        },
        "id": "9yLKOJXrmwkp",
        "outputId": "94fe5f0f-5625-4f62-b3a6-4de08370ba97"
      },
      "execution_count": null,
      "outputs": [
        {
          "output_type": "execute_result",
          "data": {
            "text/plain": [
              "torch.Size([18000, 100])"
            ]
          },
          "metadata": {},
          "execution_count": 79
        }
      ]
    },
    {
      "cell_type": "code",
      "source": [
        "train_labels\n",
        "conv_size = ((804-4+2*1)//4)+1\n",
        "print(conv_size)\n",
        "conv_size*12\n",
        "((804-4+2*1)//4+1)*12"
      ],
      "metadata": {
        "colab": {
          "base_uri": "https://localhost:8080/"
        },
        "id": "kZRoNMQdfASt",
        "outputId": "50645e3e-a888-4ae0-8671-fa34f1c8c2d8"
      },
      "execution_count": null,
      "outputs": [
        {
          "output_type": "stream",
          "name": "stdout",
          "text": [
            "50.25\n"
          ]
        },
        {
          "output_type": "execute_result",
          "data": {
            "text/plain": [
              "2412"
            ]
          },
          "metadata": {},
          "execution_count": 22
        }
      ]
    },
    {
      "cell_type": "code",
      "source": [
        "#kernel_sizes = [4,12,24,64]\n",
        "#kernel_size_losses = []\n",
        "kernel_sizes = [200,400]\n",
        "\n",
        "for kernel_size in kernel_sizes:\n",
        "  lr = 1e-4\n",
        "  input_size = 804\n",
        "  num_channels = 12\n",
        "  conv_kernel_size = kernel_size\n",
        "  stride = 4\n",
        "  pool_kernel_size = 2\n",
        "  h1_size = 25\n",
        "\n",
        "  model = conv_para_network(input_size, num_channels, conv_kernel_size, stride, pool_kernel_size, h1_size)\n",
        "  loss = nn.MSELoss(reduction=\"mean\")\n",
        "  optimizer = torch.optim.Adam(model.parameters(), lr=lr)\n",
        "\n",
        "  train_step = make_train_step(model, loss, optimizer)\n",
        "\n",
        "  #Actual training loop\n",
        "\n",
        "  n_epochs = 10\n",
        "\n",
        "  train_losses = []\n",
        "\n",
        "  for epoch in range(n_epochs):\n",
        "    #training\n",
        "    train_loss = mini_batch_descent(train_loader, train_step)\n",
        "    train_losses.append(train_loss)\n",
        "\n",
        "  kernel_size_losses.append(train_losses)"
      ],
      "metadata": {
        "id": "p7ammV26Q2BQ"
      },
      "execution_count": null,
      "outputs": []
    },
    {
      "cell_type": "code",
      "source": [
        "plt.plot(kernel_size_losses[7], label =\"200\")\n",
        "plt.plot(kernel_size_losses[1], label=\"12\")\n",
        "plt.plot(kernel_size_losses[8], label=\"400\")\n",
        "#plt.plot(kernel_size_losses[3], label=\"64\")\n",
        "#plt.plot(kernel_size_losses[4], label =\"84\")\n",
        "plt.plot(kernel_size_losses[5], label =\"104\")\n",
        "#plt.plot(kernel_size_losses[6], label =\"124\")\n",
        "plt.legend()"
      ],
      "metadata": {
        "colab": {
          "base_uri": "https://localhost:8080/",
          "height": 299
        },
        "id": "N1xUXdG9TKxr",
        "outputId": "2212cf5b-b66c-439b-9a82-e977113ea202"
      },
      "execution_count": null,
      "outputs": [
        {
          "output_type": "execute_result",
          "data": {
            "text/plain": [
              "<matplotlib.legend.Legend at 0x7f3a2c951950>"
            ]
          },
          "metadata": {},
          "execution_count": 32
        },
        {
          "output_type": "display_data",
          "data": {
            "image/png": "[encoded data removed]",
            "text/plain": [
              "<Figure size 432x288 with 1 Axes>"
            ]
          },
          "metadata": {}
        }
      ]
    },
    {
      "cell_type": "code",
      "source": [
        "strides = [1,3,6,9]\n",
        "stride_losses = []\n",
        "\n",
        "for stride in strides:\n",
        "  lr = 1e-4\n",
        "  input_size = 804\n",
        "  num_channels = 12\n",
        "  conv_kernel_size = 6\n",
        "  stride = stride\n",
        "  pool_kernel_size = 2\n",
        "  h1_size = 25\n",
        "  # dropout = 0.5\n",
        "\n",
        "\n",
        "\n",
        "  model = conv_para_network(input_size, num_channels, conv_kernel_size, stride, pool_kernel_size, h1_size)\n",
        "  loss = nn.MSELoss(reduction=\"mean\")\n",
        "  optimizer = torch.optim.Adam(model.parameters(), lr=lr)\n",
        "\n",
        "  train_step = make_train_step(model, loss, optimizer)\n",
        "\n",
        "  #Actual training loop\n",
        "\n",
        "  n_epochs = 10\n",
        "\n",
        "  train_losses = []\n",
        "\n",
        "  for epoch in range(n_epochs):\n",
        "    #training\n",
        "    train_loss = mini_batch_descent(train_loader, train_step)\n",
        "    train_losses.append(train_loss)\n",
        "\n",
        "  stride_losses.append(train_losses)"
      ],
      "metadata": {
        "id": "gp3M6ELpgRvI"
      },
      "execution_count": null,
      "outputs": []
    },
    {
      "cell_type": "code",
      "source": [
        "plt.plot(stride_losses[0], label =\"1\")\n",
        "plt.plot(stride_losses[1], label=\"3\")\n",
        "plt.plot(stride_losses[2], label=\"6\")\n",
        "plt.plot(stride_losses[3], label=\"9\")\n",
        "plt.legend()"
      ],
      "metadata": {
        "colab": {
          "base_uri": "https://localhost:8080/",
          "height": 279
        },
        "id": "M6cSVIpZhzD_",
        "outputId": "a14dc13f-487d-4c09-f20e-0112aea4a9a7"
      },
      "execution_count": null,
      "outputs": [
        {
          "output_type": "execute_result",
          "data": {
            "text/plain": [
              "<matplotlib.legend.Legend at 0x7fd66e1f1910>"
            ]
          },
          "metadata": {},
          "execution_count": 87
        },
        {
          "output_type": "display_data",
          "data": {
            "image/png": "[encoded data removed]",
            "text/plain": [
              "<Figure size 432x288 with 1 Axes>"
            ]
          },
          "metadata": {
            "needs_background": "light"
          }
        }
      ]
    },
    {
      "cell_type": "code",
      "source": [
        "filters = [8,16,24,32]\n",
        "filter_losses = []\n",
        "\n",
        "for filter in filters:\n",
        "  lr = 1e-4\n",
        "  input_size = 804\n",
        "  num_channels = filter\n",
        "  conv_kernel_size = 6\n",
        "  stride = 4\n",
        "  pool_kernel_size = 2\n",
        "  h1_size = 2\n",
        "  # dropout = 0.5\n",
        "\n",
        "  model = conv_network(input_size, num_channels, conv_kernel_size, stride, pool_kernel_size, h1_size)\n",
        "  loss = nn.MSELoss(reduction=\"mean\")\n",
        "  optimizer = torch.optim.Adam(model.parameters(), lr=lr)\n",
        "\n",
        "  train_step = make_train_step(model, loss, optimizer)\n",
        "\n",
        "  #Actual training loop\n",
        "\n",
        "  n_epochs = 10\n",
        "\n",
        "  train_losses = []\n",
        "\n",
        "  for epoch in range(n_epochs):\n",
        "    #training\n",
        "    train_loss = mini_batch_descent(train_loader, train_step)\n",
        "    train_losses.append(train_loss)\n",
        "\n",
        "  filter_losses.append(train_losses)"
      ],
      "metadata": {
        "id": "bD2fMg0xkj2N"
      },
      "execution_count": null,
      "outputs": []
    },
    {
      "cell_type": "code",
      "source": [
        "plt.plot(filter_losses[0], label =\"8\")\n",
        "plt.plot(filter_losses[1], label=\"16\")\n",
        "plt.plot(filter_losses[2], label=\"24\")\n",
        "plt.plot(filter_losses[3], label=\"32\")\n",
        "plt.legend()"
      ],
      "metadata": {
        "colab": {
          "base_uri": "https://localhost:8080/",
          "height": 279
        },
        "id": "8bxljNY1qIbq",
        "outputId": "1e181ee2-a8d4-4f4e-c3ae-cfea9e4e9f3d"
      },
      "execution_count": null,
      "outputs": [
        {
          "output_type": "execute_result",
          "data": {
            "text/plain": [
              "<matplotlib.legend.Legend at 0x7f44d4b113d0>"
            ]
          },
          "metadata": {},
          "execution_count": 164
        },
        {
          "output_type": "display_data",
          "data": {
            "image/png": "[encoded data removed]",
            "text/plain": [
              "<Figure size 432x288 with 1 Axes>"
            ]
          },
          "metadata": {
            "needs_background": "light"
          }
        }
      ]
    },
    {
      "cell_type": "markdown",
      "source": [
        "#Pooling layer"
      ],
      "metadata": {
        "id": "FfA1LPKRoicd"
      }
    },
    {
      "cell_type": "code",
      "source": [
        "class conv_network(torch.nn.Module):\n",
        "\n",
        "  def __init__(self, input_size, num_channels, conv_kernel_size, stride, pool_kernel_size, h1_size):\n",
        "    super(conv_network, self).__init__()\n",
        "    self.conv1 = torch.nn.Conv1d(1, num_channels, conv_kernel_size, stride, 1) \n",
        "    self.bnorm1 = torch.nn.BatchNorm1d(num_channels)\n",
        "    self.pool = torch.nn.AvgPool1d(kernel_size=pool_kernel_size)\n",
        "    self.flatten = torch.nn.Flatten(start_dim=1)\n",
        "    h1_in = ((input_size//stride)//pool_kernel_size)*num_channels\n",
        "    self.h1 = torch.nn.Linear(h1_in, h1_size)\n",
        "    self.bnorm2 = torch.nn.BatchNorm1d(h1_size)\n",
        "    self.output_layer = torch.nn.Linear(h1_size, 1)\n",
        "    self.dropout = torch.nn.Dropout(0.5)\n",
        "  \n",
        "  def forward(self, x):\n",
        "    x = self.bnorm1(self.conv1(x))\n",
        "    x = torch.nn.functional.relu(self.pool(x))\n",
        "    x = self.dropout(x)\n",
        "    x = self.flatten(x)\n",
        "    x = torch.nn.functional.relu(self.bnorm2(self.h1(x)))\n",
        "    x = self.dropout(x)\n",
        "    y = self.output_layer(x)\n",
        "\n",
        "    return y"
      ],
      "metadata": {
        "id": "vxzHaj8pkHFL"
      },
      "execution_count": null,
      "outputs": []
    },
    {
      "cell_type": "code",
      "source": [
        "lr = 1e-4\n",
        "input_size = 804\n",
        "num_channels = 25\n",
        "conv_kernel_size = 6\n",
        "stride = 4\n",
        "pool_kernel_size = 2\n",
        "h1_size = 2\n",
        "# dropout = 0.5\n",
        "\n",
        "model = conv_network(input_size, num_channels, conv_kernel_size, stride, pool_kernel_size, h1_size)\n",
        "loss = nn.MSELoss(reduction=\"mean\")\n",
        "optimizer = torch.optim.Adam(model.parameters(), lr=lr)\n",
        "\n",
        "train_step = make_train_step(model, loss, optimizer)\n",
        "\n",
        "#Actual training loop\n",
        "\n",
        "n_epochs = 20\n",
        "\n",
        "train_losses = []\n",
        "\n",
        "for epoch in range(n_epochs):\n",
        "  #training\n",
        "  train_loss = mini_batch_descent(train_loader, train_step)\n",
        "  train_losses.append(train_loss)"
      ],
      "metadata": {
        "id": "bULqnNV6jbUu"
      },
      "execution_count": null,
      "outputs": []
    },
    {
      "cell_type": "code",
      "source": [
        "plt.plot(train_losses)"
      ],
      "metadata": {
        "colab": {
          "base_uri": "https://localhost:8080/",
          "height": 279
        },
        "id": "k3fG8Lw7klT0",
        "outputId": "43b71860-f393-44d6-86dd-5bc6096b9ba5"
      },
      "execution_count": null,
      "outputs": [
        {
          "output_type": "execute_result",
          "data": {
            "text/plain": [
              "[<matplotlib.lines.Line2D at 0x7f44d5223f90>]"
            ]
          },
          "metadata": {},
          "execution_count": 100
        },
        {
          "output_type": "display_data",
          "data": {
            "image/png": "[encoded data removed]",
            "text/plain": [
              "<Figure size 432x288 with 1 Axes>"
            ]
          },
          "metadata": {
            "needs_background": "light"
          }
        }
      ]
    },
    {
      "cell_type": "markdown",
      "source": [
        "#Loss of model over multiple iterations"
      ],
      "metadata": {
        "id": "F7nJCIuwZc2n"
      }
    },
    {
      "cell_type": "code",
      "source": [
        "lr = 1e-4\n",
        "input_size = 804\n",
        "num_channels = 12\n",
        "conv_kernel_size = 6\n",
        "stride = 4\n",
        "pool_kernel_size = 2\n",
        "h1_size = 10\n",
        "\n",
        "loss_file = open(\"cnn_losses_100rep.txt\", 'w')\n",
        "\n",
        "min_min_loss = 1\n",
        "\n",
        "for i in range(10):\n",
        "  model = conv_para_network(input_size, num_channels, conv_kernel_size, stride, pool_kernel_size, h1_size)\n",
        "  loss = nn.MSELoss(reduction=\"mean\")\n",
        "  optimizer = torch.optim.Adam(model.parameters(), lr=lr)\n",
        "  train_step = make_train_step(model, loss, optimizer)\n",
        "  \n",
        "  #Actual training loop\n",
        "  n_epochs = 8\n",
        "\n",
        "  val_losses = []\n",
        "  min_loss = 1\n",
        "\n",
        "  for epoch in range(n_epochs):\n",
        "    #training\n",
        "    train_loss = mini_batch_descent(train_loader, train_step)\n",
        "    # train_losses.append(train_loss)\n",
        "\n",
        "    with torch.no_grad():\n",
        "      val_loss = mini_batch_descent(val_loader, val_step)\n",
        "      val_losses.append(val_loss)\n",
        "      \n",
        "      if val_loss < min_loss:\n",
        "        min_loss = val_loss\n",
        "        small_loss_model = copy.deepcopy(model.state_dict())\n",
        "  \n",
        "  loss_file.write(str(val_losses[-1])+\"\\t\")\n",
        "  if min_loss < min_min_loss:\n",
        "    min_min_loss = min_loss\n",
        "    smallest_loss_model = small_loss_model\n",
        "\n",
        "torch.save(smallest_loss_model, \"best_model.pt\")\n",
        "loss_file.close()"
      ],
      "metadata": {
        "id": "s7BWM3wrXMqQ"
      },
      "execution_count": null,
      "outputs": []
    },
    {
      "cell_type": "code",
      "source": [
        "losses = np.loadtxt(\"dense_losses_500rep.txt\", dtype = str, delimiter = ' ')"
      ],
      "metadata": {
        "id": "BVaNmeYRO-pK"
      },
      "execution_count": null,
      "outputs": []
    },
    {
      "cell_type": "code",
      "source": [
        "loss_list = []\n",
        "for i in losses:\n",
        "  if i == '':\n",
        "    continue\n",
        "  loss_list.append(float(i))"
      ],
      "metadata": {
        "id": "Xa8oX4nXPq8X"
      },
      "execution_count": null,
      "outputs": []
    },
    {
      "cell_type": "code",
      "source": [
        "fig = plt.figure()\n",
        "plt.hist(loss_list)\n"
      ],
      "metadata": {
        "colab": {
          "base_uri": "https://localhost:8080/",
          "height": 369
        },
        "id": "oA73_RqkTdGu",
        "outputId": "17545ad3-15c8-41f8-ed3f-32d32a57de60"
      },
      "execution_count": null,
      "outputs": [
        {
          "output_type": "execute_result",
          "data": {
            "text/plain": [
              "(array([  2.,  19.,  97., 208.,  60.,  36.,  52.,  14.,  10.,   2.]),\n",
              " array([0.20361916, 0.20814202, 0.21266488, 0.21718774, 0.2217106 ,\n",
              "        0.22623347, 0.23075633, 0.23527919, 0.23980205, 0.24432491,\n",
              "        0.24884777]),\n",
              " <a list of 10 Patch objects>)"
            ]
          },
          "metadata": {},
          "execution_count": 5
        },
        {
          "output_type": "display_data",
          "data": {
            "image/png": "[encoded data removed]",
            "text/plain": [
              "<Figure size 432x288 with 1 Axes>"
            ]
          },
          "metadata": {}
        }
      ]
    },
    {
      "cell_type": "code",
      "source": [
        "plt.hist(loss_list, bins=50)"
      ],
      "metadata": {
        "colab": {
          "base_uri": "https://localhost:8080/",
          "height": 560
        },
        "id": "jk4OhQjPRMiH",
        "outputId": "2f463c25-4fd6-4da2-bae4-aaa63effc4b6"
      },
      "execution_count": null,
      "outputs": [
        {
          "output_type": "execute_result",
          "data": {
            "text/plain": [
              "(array([ 1.,  1.,  0.,  0.,  0.,  1.,  2.,  3.,  4.,  9.,  3., 16., 15.,\n",
              "        23., 40., 54., 49., 44., 37., 24., 22.,  8., 11., 10.,  9.,  5.,\n",
              "         6., 13.,  7.,  5.,  6.,  8., 20.,  9.,  9.,  6.,  2.,  2.,  3.,\n",
              "         1.,  3.,  1.,  3.,  1.,  2.,  0.,  0.,  1.,  0.,  1.]),\n",
              " array([0.20361916, 0.20452373, 0.2054283 , 0.20633287, 0.20723745,\n",
              "        0.20814202, 0.20904659, 0.20995116, 0.21085573, 0.21176031,\n",
              "        0.21266488, 0.21356945, 0.21447402, 0.2153786 , 0.21628317,\n",
              "        0.21718774, 0.21809231, 0.21899689, 0.21990146, 0.22080603,\n",
              "        0.2217106 , 0.22261518, 0.22351975, 0.22442432, 0.22532889,\n",
              "        0.22623347, 0.22713804, 0.22804261, 0.22894718, 0.22985175,\n",
              "        0.23075633, 0.2316609 , 0.23256547, 0.23347004, 0.23437462,\n",
              "        0.23527919, 0.23618376, 0.23708833, 0.23799291, 0.23889748,\n",
              "        0.23980205, 0.24070662, 0.2416112 , 0.24251577, 0.24342034,\n",
              "        0.24432491, 0.24522949, 0.24613406, 0.24703863, 0.2479432 ,\n",
              "        0.24884777]),\n",
              " <a list of 50 Patch objects>)"
            ]
          },
          "metadata": {},
          "execution_count": 7
        },
        {
          "output_type": "display_data",
          "data": {
            "image/png": "[encoded data removed]",
            "text/plain": [
              "<Figure size 432x288 with 1 Axes>"
            ]
          },
          "metadata": {}
        }
      ]
    },
    {
      "cell_type": "code",
      "source": [
        "x = [1,2,34,5]\n",
        "x1 = [1,2,3,4]\n",
        "\n",
        "y = []\n",
        "z = []\n",
        "y.append(x)\n",
        "y.append(x1)\n",
        "z.append(y)\n",
        "z.append(y)\n",
        "z[1][0]"
      ],
      "metadata": {
        "colab": {
          "base_uri": "https://localhost:8080/"
        },
        "id": "X1b_FrrubLKt",
        "outputId": "5577687a-034f-459e-fa4e-4fd3a8cd84c3"
      },
      "execution_count": null,
      "outputs": [
        {
          "output_type": "execute_result",
          "data": {
            "text/plain": [
              "[1, 2, 34, 5]"
            ]
          },
          "metadata": {},
          "execution_count": 25
        }
      ]
    },
    {
      "cell_type": "markdown",
      "source": [
        "#Using saved model to predict"
      ],
      "metadata": {
        "id": "YCj4U7gU0Dqu"
      }
    },
    {
      "cell_type": "code",
      "source": [
        "test = pd.read_csv(\"test_chr20_short.tsv\", sep = \"\\t\")\n",
        "test_features = torch.as_tensor(train.iloc[:,5:].values).float()\n",
        "test_labels = torch.as_tensor(train.iloc[:,4].values).float()"
      ],
      "metadata": {
        "id": "yGoZHCj_0KS8"
      },
      "execution_count": null,
      "outputs": []
    },
    {
      "cell_type": "code",
      "source": [
        "test_features = torch.unsqueeze(test_features, 1)"
      ],
      "metadata": {
        "id": "_ojpE7jJ1HFh"
      },
      "execution_count": null,
      "outputs": []
    },
    {
      "cell_type": "code",
      "source": [
        "lr = 1e-4\n",
        "input_size = 804\n",
        "num_channels = 12\n",
        "conv_kernel_size = 6\n",
        "stride = 4\n",
        "pool_kernel_size = 2\n",
        "h1_size = 10\n",
        "\n",
        "model = conv_para_network(input_size, num_channels, conv_kernel_size, stride, pool_kernel_size, h1_size)\n",
        "saved = torch.load(\"best_model.pt\")\n",
        "model.load_state_dict(saved)"
      ],
      "metadata": {
        "colab": {
          "base_uri": "https://localhost:8080/"
        },
        "id": "PwWZ3hBL0bHN",
        "outputId": "24962cfd-b20f-4bd6-d053-2914a038b92a"
      },
      "execution_count": null,
      "outputs": [
        {
          "output_type": "execute_result",
          "data": {
            "text/plain": [
              "<All keys matched successfully>"
            ]
          },
          "metadata": {},
          "execution_count": 36
        }
      ]
    },
    {
      "cell_type": "code",
      "source": [
        "with torch.no_grad():\n",
        "  y_pred = model(val_features)"
      ],
      "metadata": {
        "id": "w9SxBPwO0veY"
      },
      "execution_count": null,
      "outputs": []
    },
    {
      "cell_type": "code",
      "source": [
        "ypred = y_pred.numpy()"
      ],
      "metadata": {
        "id": "Dtjyq8RF1Q2K"
      },
      "execution_count": null,
      "outputs": []
    },
    {
      "cell_type": "code",
      "source": [
        "ytrue = val_labels.numpy()"
      ],
      "metadata": {
        "id": "grMlTeOR15YU"
      },
      "execution_count": null,
      "outputs": []
    },
    {
      "cell_type": "code",
      "source": [
        "sq_error = (ytrue-ypred)**2\n",
        "len(sq_error)"
      ],
      "metadata": {
        "colab": {
          "base_uri": "https://localhost:8080/"
        },
        "id": "NpKjLET-2tfU",
        "outputId": "295a9bab-5bff-4f29-ef36-ccfa0db3134d"
      },
      "execution_count": null,
      "outputs": [
        {
          "output_type": "execute_result",
          "data": {
            "text/plain": [
              "1000"
            ]
          },
          "metadata": {},
          "execution_count": 25
        }
      ]
    },
    {
      "cell_type": "code",
      "source": [
        "seq = val_features.numpy()"
      ],
      "metadata": {
        "id": "QSdGHUtV3OJX"
      },
      "execution_count": null,
      "outputs": []
    },
    {
      "cell_type": "code",
      "source": [
        "print(seq[0][0][0:4])\n",
        "# y = range(0,804,5)\n",
        "# for n in y:\n",
        "#   print(n)"
      ],
      "metadata": {
        "colab": {
          "base_uri": "https://localhost:8080/"
        },
        "id": "Ctkbs2j94GY1",
        "outputId": "1178434e-a0f2-4e5e-a6df-ee81375058e7"
      },
      "execution_count": null,
      "outputs": [
        {
          "output_type": "stream",
          "name": "stdout",
          "text": [
            "[1. 0. 0. 0.]\n"
          ]
        }
      ]
    },
    {
      "cell_type": "code",
      "source": [
        "seqny = []\n",
        "for i in range(len(seq)):\n",
        "  lst = []\n",
        "  for j in range(0,804,4):\n",
        "    lst.append(''.join(str(e) for e in seq[i][0][j:j+4].astype('int')))\n",
        "  seqny.append(lst)"
      ],
      "metadata": {
        "id": "-xR6Gzmq3hbc"
      },
      "execution_count": null,
      "outputs": []
    },
    {
      "cell_type": "code",
      "source": [
        "seqny[0]"
      ],
      "metadata": {
        "id": "A-OoELkBBLsr"
      },
      "execution_count": null,
      "outputs": []
    },
    {
      "cell_type": "code",
      "source": [
        "onehot_dict = {\"1000\":\"A\", \"0100\":\"C\", \"0010\":\"G\", \"0001\":\"T\"}\n",
        "onehot_dict[seqny[0][1]]\n",
        "\n",
        "seq_win = []\n",
        "for i in range(len(seqny)):\n",
        "  seq = ''\n",
        "  for j in range(201):\n",
        "    seq+=onehot_dict[seqny[i][j]]\n",
        "  seq_win.append(seq)\n"
      ],
      "metadata": {
        "id": "c9iHZ23576o4"
      },
      "execution_count": null,
      "outputs": []
    },
    {
      "cell_type": "code",
      "source": [
        "sq_error[0]"
      ],
      "metadata": {
        "colab": {
          "base_uri": "https://localhost:8080/"
        },
        "id": "wK7fgNHvOlnU",
        "outputId": "a5953c1c-c7b2-4cd4-c053-e00366930cc7"
      },
      "execution_count": null,
      "outputs": [
        {
          "output_type": "execute_result",
          "data": {
            "text/plain": [
              "array([0.05563436, 0.0154856 , 0.03263719, ..., 0.04663992, 0.0477897 ,\n",
              "       0.00521442], dtype=float32)"
            ]
          },
          "metadata": {},
          "execution_count": 130
        }
      ]
    },
    {
      "cell_type": "code",
      "source": [
        "df = pd.DataFrame()\n",
        "df[\"True_y\"] = ytrue\n",
        "df[\"Pred_y\"] = ypred\n",
        "df[\"Sq_error\"] = (df[\"True_y\"]-df['Pred_y'])**2\n",
        "df[\"Sequence\"] = seq_win"
      ],
      "metadata": {
        "id": "WemFh3kiF9Bk"
      },
      "execution_count": null,
      "outputs": []
    },
    {
      "cell_type": "code",
      "source": [
        "seq = test.iloc[:,5:].to_numpy()\n",
        "test.iloc[:,1:]"
      ],
      "metadata": {
        "id": "Ji-PdfCBPM_3"
      },
      "execution_count": null,
      "outputs": []
    },
    {
      "cell_type": "code",
      "source": [
        "def GC_content(x):\n",
        "\tGC = 0\n",
        "\tfor i in x:\n",
        "\t\tif i =='G' or i =='C': \n",
        "\t\t\tGC += 1\n",
        "\t\tcontinue\n",
        "\tGC_content = GC / len(x)\n",
        "\treturn GC_content\n",
        "\n",
        "GC_cont = []\n",
        "for i in range(len(df)):\n",
        "  GC_cont.append(GC_content(df['Sequence'][i]))\n",
        "\n",
        "df['GC_content'] = GC_cont\n",
        "df"
      ],
      "metadata": {
        "colab": {
          "base_uri": "https://localhost:8080/",
          "height": 487
        },
        "id": "IMdG-rQQiO-P",
        "outputId": "72312bda-703b-44b5-ced7-b54c651272af"
      },
      "execution_count": null,
      "outputs": [
        {
          "output_type": "execute_result",
          "data": {
            "text/html": [
              "\n",
              "  <div id=\"df-58985444-ce8e-4116-8901-362f1329e6b6\">\n",
              "    <div class=\"colab-df-container\">\n",
              "      <div>\n",
              "<style scoped>\n",
              "    .dataframe tbody tr th:only-of-type {\n",
              "        vertical-align: middle;\n",
              "    }\n",
              "\n",
              "    .dataframe tbody tr th {\n",
              "        vertical-align: top;\n",
              "    }\n",
              "\n",
              "    .dataframe thead th {\n",
              "        text-align: right;\n",
              "    }\n",
              "</style>\n",
              "<table border=\"1\" class=\"dataframe\">\n",
              "  <thead>\n",
              "    <tr style=\"text-align: right;\">\n",
              "      <th></th>\n",
              "      <th>True_y</th>\n",
              "      <th>Pred_y</th>\n",
              "      <th>Sq_error</th>\n",
              "      <th>Sequence</th>\n",
              "      <th>GC_content</th>\n",
              "    </tr>\n",
              "  </thead>\n",
              "  <tbody>\n",
              "    <tr>\n",
              "      <th>0</th>\n",
              "      <td>0.424467</td>\n",
              "      <td>0.188597</td>\n",
              "      <td>5.563436e-02</td>\n",
              "      <td>CGGGATGTCTTTATGAAAGCAGTACTCCTAACTGACATGGTGCAAT...</td>\n",
              "      <td>0.482587</td>\n",
              "    </tr>\n",
              "    <tr>\n",
              "      <th>1</th>\n",
              "      <td>0.313038</td>\n",
              "      <td>0.313273</td>\n",
              "      <td>5.488527e-08</td>\n",
              "      <td>ACCTACCCCTAAAGCTGAGTGTTTCTCATTTTCCCCTTAAAGGAGG...</td>\n",
              "      <td>0.388060</td>\n",
              "    </tr>\n",
              "    <tr>\n",
              "      <th>2</th>\n",
              "      <td>0.007940</td>\n",
              "      <td>0.411074</td>\n",
              "      <td>1.625176e-01</td>\n",
              "      <td>CCATGCCTAGGGTTAGGCTGACCAAATGATGGCTCCCCTGCTTCTG...</td>\n",
              "      <td>0.606965</td>\n",
              "    </tr>\n",
              "    <tr>\n",
              "      <th>3</th>\n",
              "      <td>0.316457</td>\n",
              "      <td>0.275004</td>\n",
              "      <td>1.718369e-03</td>\n",
              "      <td>TGGCTCAGAGCAGCATGGGCTCCTGTTTGCTGCGGCCGTGATGACT...</td>\n",
              "      <td>0.616915</td>\n",
              "    </tr>\n",
              "    <tr>\n",
              "      <th>4</th>\n",
              "      <td>0.057515</td>\n",
              "      <td>0.386588</td>\n",
              "      <td>1.082894e-01</td>\n",
              "      <td>TGCTTTTGAAACATATCCTTAGGATTGTCAGCATGGTGTCTGTCTA...</td>\n",
              "      <td>0.522388</td>\n",
              "    </tr>\n",
              "    <tr>\n",
              "      <th>...</th>\n",
              "      <td>...</td>\n",
              "      <td>...</td>\n",
              "      <td>...</td>\n",
              "      <td>...</td>\n",
              "      <td>...</td>\n",
              "    </tr>\n",
              "    <tr>\n",
              "      <th>17995</th>\n",
              "      <td>0.012170</td>\n",
              "      <td>0.496133</td>\n",
              "      <td>2.342205e-01</td>\n",
              "      <td>TAACATGCCCGCTGGGCTTCAGGAGTCGCAGACACCCACCCTTAGA...</td>\n",
              "      <td>0.592040</td>\n",
              "    </tr>\n",
              "    <tr>\n",
              "      <th>17996</th>\n",
              "      <td>1.315522</td>\n",
              "      <td>0.184576</td>\n",
              "      <td>1.279039e+00</td>\n",
              "      <td>TTGGTTTTCAGAGCATTCTTTCCCACAATTAGGAAATTAACATGGA...</td>\n",
              "      <td>0.462687</td>\n",
              "    </tr>\n",
              "    <tr>\n",
              "      <th>17997</th>\n",
              "      <td>0.404560</td>\n",
              "      <td>0.194358</td>\n",
              "      <td>4.418488e-02</td>\n",
              "      <td>TCAGTCCCACTCTTTCCATGTGACACCACCTGCTCCCTCTTGATTG...</td>\n",
              "      <td>0.432836</td>\n",
              "    </tr>\n",
              "    <tr>\n",
              "      <th>17998</th>\n",
              "      <td>0.407206</td>\n",
              "      <td>0.581488</td>\n",
              "      <td>3.037448e-02</td>\n",
              "      <td>GAATGCATTCCTGGGCTAGGTGCAGTGGCTCACGCCTGTAATCCCA...</td>\n",
              "      <td>0.542289</td>\n",
              "    </tr>\n",
              "    <tr>\n",
              "      <th>17999</th>\n",
              "      <td>0.116386</td>\n",
              "      <td>0.095268</td>\n",
              "      <td>4.459800e-04</td>\n",
              "      <td>GATAATAACGAAAGATTATGCAAAAAAAATCCGTGTTTAAAATAAT...</td>\n",
              "      <td>0.363184</td>\n",
              "    </tr>\n",
              "  </tbody>\n",
              "</table>\n",
              "<p>18000 rows × 5 columns</p>\n",
              "</div>\n",
              "      <button class=\"colab-df-convert\" onclick=\"convertToInteractive('df-58985444-ce8e-4116-8901-362f1329e6b6')\"\n",
              "              title=\"Convert this dataframe to an interactive table.\"\n",
              "              style=\"display:none;\">\n",
              "        \n",
              "  <svg xmlns=\"http://www.w3.org/2000/svg\" height=\"24px\"viewBox=\"0 0 24 24\"\n",
              "       width=\"24px\">\n",
              "    <path d=\"M0 0h24v24H0V0z\" fill=\"none\"/>\n",
              "    <path d=\"M18.56 5.44l.94 2.06.94-2.06 2.06-.94-2.06-.94-.94-2.06-.94 2.06-2.06.94zm-11 1L8.5 8.5l.94-2.06 2.06-.94-2.06-.94L8.5 2.5l-.94 2.06-2.06.94zm10 10l.94 2.06.94-2.06 2.06-.94-2.06-.94-.94-2.06-.94 2.06-2.06.94z\"/><path d=\"M17.41 7.96l-1.37-1.37c-.4-.4-.92-.59-1.43-.59-.52 0-1.04.2-1.43.59L10.3 9.45l-7.72 7.72c-.78.78-.78 2.05 0 2.83L4 21.41c.39.39.9.59 1.41.59.51 0 1.02-.2 1.41-.59l7.78-7.78 2.81-2.81c.8-.78.8-2.07 0-2.86zM5.41 20L4 18.59l7.72-7.72 1.47 1.35L5.41 20z\"/>\n",
              "  </svg>\n",
              "      </button>\n",
              "      \n",
              "  <style>\n",
              "    .colab-df-container {\n",
              "      display:flex;\n",
              "      flex-wrap:wrap;\n",
              "      gap: 12px;\n",
              "    }\n",
              "\n",
              "    .colab-df-convert {\n",
              "      background-color: #E8F0FE;\n",
              "      border: none;\n",
              "      border-radius: 50%;\n",
              "      cursor: pointer;\n",
              "      display: none;\n",
              "      fill: #1967D2;\n",
              "      height: 32px;\n",
              "      padding: 0 0 0 0;\n",
              "      width: 32px;\n",
              "    }\n",
              "\n",
              "    .colab-df-convert:hover {\n",
              "      background-color: #E2EBFA;\n",
              "      box-shadow: 0px 1px 2px rgba(60, 64, 67, 0.3), 0px 1px 3px 1px rgba(60, 64, 67, 0.15);\n",
              "      fill: #174EA6;\n",
              "    }\n",
              "\n",
              "    [theme=dark] .colab-df-convert {\n",
              "      background-color: #3B4455;\n",
              "      fill: #D2E3FC;\n",
              "    }\n",
              "\n",
              "    [theme=dark] .colab-df-convert:hover {\n",
              "      background-color: #434B5C;\n",
              "      box-shadow: 0px 1px 3px 1px rgba(0, 0, 0, 0.15);\n",
              "      filter: drop-shadow(0px 1px 2px rgba(0, 0, 0, 0.3));\n",
              "      fill: #FFFFFF;\n",
              "    }\n",
              "  </style>\n",
              "\n",
              "      <script>\n",
              "        const buttonEl =\n",
              "          document.querySelector('#df-58985444-ce8e-4116-8901-362f1329e6b6 button.colab-df-convert');\n",
              "        buttonEl.style.display =\n",
              "          google.colab.kernel.accessAllowed ? 'block' : 'none';\n",
              "\n",
              "        async function convertToInteractive(key) {\n",
              "          const element = document.querySelector('#df-58985444-ce8e-4116-8901-362f1329e6b6');\n",
              "          const dataTable =\n",
              "            await google.colab.kernel.invokeFunction('convertToInteractive',\n",
              "                                                     [key], {});\n",
              "          if (!dataTable) return;\n",
              "\n",
              "          const docLinkHtml = 'Like what you see? Visit the ' +\n",
              "            '<a target=\"_blank\" href=https://colab.research.google.com/notebooks/data_table.ipynb>data table notebook</a>'\n",
              "            + ' to learn more about interactive tables.';\n",
              "          element.innerHTML = '';\n",
              "          dataTable['output_type'] = 'display_data';\n",
              "          await google.colab.output.renderOutput(dataTable, element);\n",
              "          const docLink = document.createElement('div');\n",
              "          docLink.innerHTML = docLinkHtml;\n",
              "          element.appendChild(docLink);\n",
              "        }\n",
              "      </script>\n",
              "    </div>\n",
              "  </div>\n",
              "  "
            ],
            "text/plain": [
              "         True_y  ...  GC_content\n",
              "0      0.424467  ...    0.482587\n",
              "1      0.313038  ...    0.388060\n",
              "2      0.007940  ...    0.606965\n",
              "3      0.316457  ...    0.616915\n",
              "4      0.057515  ...    0.522388\n",
              "...         ...  ...         ...\n",
              "17995  0.012170  ...    0.592040\n",
              "17996  1.315522  ...    0.462687\n",
              "17997  0.404560  ...    0.432836\n",
              "17998  0.407206  ...    0.542289\n",
              "17999  0.116386  ...    0.363184\n",
              "\n",
              "[18000 rows x 5 columns]"
            ]
          },
          "metadata": {},
          "execution_count": 238
        }
      ]
    },
    {
      "cell_type": "code",
      "source": [
        "GC = 0\n",
        "for i in df['Sequence'][0]:\n",
        "  if i == 'G' or i == 'C':\n",
        "    GC = GC+1\n",
        "print(GC/201*100)"
      ],
      "metadata": {
        "colab": {
          "base_uri": "https://localhost:8080/"
        },
        "id": "ypnnbRLLiO1q",
        "outputId": "3638162d-0fd9-4e12-8cc5-cff15836aba3"
      },
      "execution_count": null,
      "outputs": [
        {
          "output_type": "stream",
          "name": "stdout",
          "text": [
            "48.258706467661696\n"
          ]
        }
      ]
    },
    {
      "cell_type": "code",
      "source": [
        "df.to_csv(\"predict_df.tsv\", sep=\"\\t\")"
      ],
      "metadata": {
        "id": "n0191QB5OHT9"
      },
      "execution_count": null,
      "outputs": []
    },
    {
      "cell_type": "code",
      "source": [
        "from numpy.lib.function_base import corrcoef\n",
        "from scipy.stats import stats\n",
        "plt.scatter(df['Sq_error'], GC_cont)\n",
        "plt.legend(stats.pearsonr(df['Sq_error'], GC_cont))\n",
        "print(stats.pearsonr(df['Sq_error'], GC_cont))"
      ],
      "metadata": {
        "colab": {
          "base_uri": "https://localhost:8080/",
          "height": 279
        },
        "id": "Od4DlhrkrkzW",
        "outputId": "ae867340-35cf-4d81-fa36-a6c63ec3a478"
      },
      "execution_count": null,
      "outputs": [
        {
          "output_type": "stream",
          "name": "stdout",
          "text": [
            "(0.17240593153391318, 4.059542981694734e-120)\n"
          ]
        },
        {
          "output_type": "display_data",
          "data": {
            "image/png": "[encoded data removed]",
            "text/plain": [
              "<Figure size 432x288 with 1 Axes>"
            ]
          },
          "metadata": {
            "needs_background": "light"
          }
        }
      ]
    }
  ]
}