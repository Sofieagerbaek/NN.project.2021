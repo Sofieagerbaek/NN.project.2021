{
  "nbformat": 4,
  "nbformat_minor": 0,
  "metadata": {
    "kernelspec": {
      "display_name": "Python 3",
      "language": "python",
      "name": "python3"
    },
    "language_info": {
      "codemirror_mode": {
        "name": "ipython",
        "version": 3
      },
      "file_extension": ".py",
      "mimetype": "text/x-python",
      "name": "python",
      "nbconvert_exporter": "python",
      "pygments_lexer": "ipython3",
      "version": "3.6.5"
    },
    "colab": {
      "name": "splitting.test.ipynb",
      "provenance": [],
      "collapsed_sections": [],
      "include_colab_link": true
    }
  },
  "cells": [
    {
      "cell_type": "markdown",
      "metadata": {
        "id": "view-in-github",
        "colab_type": "text"
      },
      "source": [
        "<a href=\"https://colab.research.google.com/github/Sofieagerbaek/NN.project.2021/blob/master/splitting_test.ipynb\" target=\"_parent\"><img src=\"https://colab.research.google.com/assets/colab-badge.svg\" alt=\"Open In Colab\"/></a>"
      ]
    },
    {
      "cell_type": "code",
      "metadata": {
        "id": "g0iOPyfgau7E"
      },
      "source": [
        "import pandas as pd \n",
        "import numpy as np\n",
        "from sklearn.model_selection import train_test_split\n",
        "import tensorflow as tf\n",
        "import torch\n"
      ],
      "execution_count": 27,
      "outputs": []
    },
    {
      "cell_type": "code",
      "metadata": {
        "id": "w55abASuau7a"
      },
      "source": [
        "#Her indlæser jeg seq og val filerne og definere at jeg kun fremadrettet vil bruge de første 100 linjer\n",
        "seq = pd.read_csv(\"seq.tsv\", sep = \"\\t\")\n",
        "val = pd.read_csv(\"val.tsv\", sep = \"\\t\")\n",
        "\n",
        "seq = seq.head(100)\n",
        "val = val.head(100)"
      ],
      "execution_count": 6,
      "outputs": []
    },
    {
      "cell_type": "code",
      "metadata": {
        "colab": {
          "base_uri": "https://localhost:8080/"
        },
        "id": "deKYzetmdJta",
        "outputId": "a2e890a9-e8af-43d6-d1df-2efa1f87b528"
      },
      "source": [
        "chr_vec = ['chr22','chr22','chr22']\n",
        "start_vec = ['1','2','3']\n",
        "stop_vec = ['1','2','3']\n",
        "val_vec = ['11','30','87']\n",
        "seq_vec = [('0,1,1,1,0'),('0,1,1,0,1'),('1,1,0,1,0')]\n",
        "\n",
        "Final_list = np.array([chr_vec, start_vec, stop_vec, val_vec, seq_vec], dtype=object)\n",
        "Final_list = np.transpose(Final_list)\n",
        "\n",
        "df = pd.DataFrame(Final_list)\n",
        "\n",
        "type(df)\n",
        "print(df)"
      ],
      "execution_count": 55,
      "outputs": [
        {
          "output_type": "stream",
          "name": "stdout",
          "text": [
            "       0  1  2   3          4\n",
            "0  chr22  1  1  11  0,1,1,1,0\n",
            "1  chr22  2  2  30  0,1,1,0,1\n",
            "2  chr22  3  3  87  1,1,0,1,0\n"
          ]
        }
      ]
    },
    {
      "cell_type": "code",
      "metadata": {
        "id": "w7vZ1j8bg2cu"
      },
      "source": [
        "df = tf.convert_to_tensor(df)\n",
        "\n",
        "torch.save(df, \"test.pt\")"
      ],
      "execution_count": 54,
      "outputs": []
    },
    {
      "cell_type": "code",
      "metadata": {
        "id": "EuWvFvDulyhm"
      },
      "source": [
        "chr_vec = ['chr22','chr22','chr22','chr22',' chr22','chr22']\n",
        "start_vec = ['1','2','3','4','5','6']\n",
        "stop_vec = ['1','2','3','4','5','6']\n",
        "val_vec = ['11','30','87','44','22','3']\n",
        "seq_vec = [('0,1,1,1,0'),('0,1,1,0,1'),('1,1,0,1,0'),('0,1,1,1,0'),('0,1,1,0,1'),('1,1,0,1,0')]\n",
        "\n",
        "Final_list = np.array([chr_vec, start_vec, stop_vec, val_vec, seq_vec], dtype=object)\n",
        "Final_list = np.transpose(Final_list)\n",
        "\n",
        "df = pd.DataFrame(Final_list)"
      ],
      "execution_count": 60,
      "outputs": []
    },
    {
      "cell_type": "code",
      "metadata": {
        "colab": {
          "base_uri": "https://localhost:8080/"
        },
        "id": "pCl02CDQl0eD",
        "outputId": "418d5ba1-3fe1-48ef-fcf7-b15320fb6ca1"
      },
      "source": [
        "train, test = train_test_split(df, test_size = 0.2)\n",
        "\n",
        "test, val = train_test_split(test, test_size = 0.5)\n",
        "\n",
        "print(train)\n",
        "print(test)\n",
        "print(val)"
      ],
      "execution_count": 63,
      "outputs": [
        {
          "output_type": "stream",
          "name": "stdout",
          "text": [
            "        0  1  2   3          4\n",
            "1   chr22  2  2  30  0,1,1,0,1\n",
            "2   chr22  3  3  87  1,1,0,1,0\n",
            "0   chr22  1  1  11  0,1,1,1,0\n",
            "4   chr22  5  5  22  0,1,1,0,1\n",
            "       0  1  2  3          4\n",
            "5  chr22  6  6  3  1,1,0,1,0\n",
            "       0  1  2   3          4\n",
            "3  chr22  4  4  44  0,1,1,1,0\n"
          ]
        }
      ]
    },
    {
      "cell_type": "code",
      "metadata": {
        "id": "qu9mohKeau7g"
      },
      "source": [
        "#print(seq, val)\n",
        "#train/test/val split \n",
        "\n",
        "seq_train, seq_val_test, val_train, val_val_test = train_test_split(seq, val, test_size = 0.1)\n",
        "\n",
        "seq_val, seq_test, val_val, val_test = train_test_split(seq_val_test, val_val_test, test_size = 0.5)"
      ],
      "execution_count": 7,
      "outputs": []
    },
    {
      "cell_type": "code",
      "metadata": {
        "colab": {
          "base_uri": "https://localhost:8080/"
        },
        "id": "8n87oWENau7j",
        "outputId": "9d1e7a1a-a13d-4f71-99c9-4031101d41c3"
      },
      "source": [
        "#Tjekker om længden på de to er den samme (og 90% af 100)\n",
        "print(len(seq_train), len(val_train))"
      ],
      "execution_count": 8,
      "outputs": [
        {
          "output_type": "stream",
          "name": "stdout",
          "text": [
            "90 90\n"
          ]
        }
      ]
    },
    {
      "cell_type": "code",
      "metadata": {
        "colab": {
          "base_uri": "https://localhost:8080/"
        },
        "id": "CbpnFaAwau7m",
        "outputId": "80207a23-91f4-4350-b9d0-bac0ef51d85e"
      },
      "source": [
        "print(seq_val)\n",
        "type(seq_val)"
      ],
      "execution_count": 45,
      "outputs": [
        {
          "output_type": "stream",
          "name": "stdout",
          "text": [
            "    1  0  0.1  0.2  0.3  0.4  ...  0.598  0.599  1.200  0.600  0.601  0.602\n",
            "5   1  0    0    0    0    0  ...    0.0    0.0    0.0    0.0    0.0    1.0\n",
            "26  0  0    1    0    0    0  ...    0.0    0.0    0.0    0.0    0.0    1.0\n",
            "10  0  0    0    1    0    0  ...    0.0    1.0    0.0    0.0    1.0    0.0\n",
            "17  0  1    0    0    0    0  ...    0.0    0.0    0.0    0.0    1.0    0.0\n",
            "66  0  0    0    1    1    0  ...    0.0    0.0    1.0    0.0    0.0    0.0\n",
            "\n",
            "[5 rows x 804 columns]\n"
          ]
        },
        {
          "output_type": "execute_result",
          "data": {
            "text/plain": [
              "pandas.core.frame.DataFrame"
            ]
          },
          "metadata": {},
          "execution_count": 45
        }
      ]
    },
    {
      "cell_type": "code",
      "metadata": {
        "colab": {
          "base_uri": "https://localhost:8080/"
        },
        "id": "Vk1bowglau7o",
        "outputId": "a5685b7a-307e-4b4c-9dfd-40f8ef355740"
      },
      "source": [
        "type(seq_train)\n",
        "print(seq_train)"
      ],
      "execution_count": 10,
      "outputs": [
        {
          "output_type": "stream",
          "name": "stdout",
          "text": [
            "    1  0  0.1  0.2  0.3  0.4  ...  0.598  0.599  1.200  0.600  0.601  0.602\n",
            "2   1  0    0    0    0    0  ...    0.0    0.0    1.0    0.0    0.0    0.0\n",
            "13  1  0    0    0    1    0  ...    0.0    0.0    1.0    0.0    0.0    0.0\n",
            "81  0  1    0    0    0    0  ...    0.0    0.0    0.0    1.0    0.0    0.0\n",
            "48  0  0    0    1    0    1  ...    0.0    0.0    0.0    0.0    0.0    1.0\n",
            "91  1  0    0    0    1    0  ...    0.0    0.0    1.0    0.0    0.0    0.0\n",
            ".. .. ..  ...  ...  ...  ...  ...    ...    ...    ...    ...    ...    ...\n",
            "99  0  0    1    0    1    0  ...    0.0    1.0    1.0    0.0    0.0    0.0\n",
            "70  1  0    0    0    0    0  ...    0.0    0.0    0.0    0.0    0.0    1.0\n",
            "8   0  0    0    1    0    1  ...    0.0    0.0    0.0    0.0    1.0    0.0\n",
            "83  0  0    0    1    0    0  ...    1.0    0.0    0.0    1.0    0.0    0.0\n",
            "33  1  0    0    0    1    0  ...    0.0    0.0    1.0    0.0    0.0    0.0\n",
            "\n",
            "[90 rows x 804 columns]\n"
          ]
        }
      ]
    },
    {
      "cell_type": "code",
      "metadata": {
        "id": "sWlTKmJvau7r"
      },
      "source": [
        "seqtrain = tf.convert_to_tensor(seq_train)\n"
      ],
      "execution_count": 11,
      "outputs": []
    },
    {
      "cell_type": "code",
      "metadata": {
        "colab": {
          "base_uri": "https://localhost:8080/"
        },
        "id": "E7zFwtRhau7u",
        "outputId": "f5b8b5d3-6599-4113-91ee-ed4ca68ae5b8"
      },
      "source": [
        "type(seqtrain)\n",
        "print(seqtrain)"
      ],
      "execution_count": 12,
      "outputs": [
        {
          "output_type": "stream",
          "name": "stdout",
          "text": [
            "tf.Tensor(\n",
            "[[1. 0. 0. ... 0. 0. 0.]\n",
            " [1. 0. 0. ... 0. 0. 0.]\n",
            " [0. 1. 0. ... 1. 0. 0.]\n",
            " ...\n",
            " [0. 0. 0. ... 0. 1. 0.]\n",
            " [0. 0. 0. ... 1. 0. 0.]\n",
            " [1. 0. 0. ... 0. 0. 0.]], shape=(90, 804), dtype=float64)\n"
          ]
        }
      ]
    },
    {
      "cell_type": "code",
      "metadata": {
        "id": "ulQe79B2au70"
      },
      "source": [
        "torch.save(seqtrain, \"seqtrain_tensor.pt\")"
      ],
      "execution_count": 15,
      "outputs": []
    },
    {
      "cell_type": "code",
      "metadata": {
        "colab": {
          "base_uri": "https://localhost:8080/"
        },
        "id": "2t2_rxh1cH6h",
        "outputId": "3d74cb4d-9d4f-4dbd-ab3b-075872df5be4"
      },
      "source": [
        "t = torch.load(\"seqtrain_tensor.pt\")\n",
        "type(t)\n",
        "print(t)"
      ],
      "execution_count": 17,
      "outputs": [
        {
          "output_type": "stream",
          "name": "stdout",
          "text": [
            "tf.Tensor(\n",
            "[[1. 0. 0. ... 0. 0. 0.]\n",
            " [1. 0. 0. ... 0. 0. 0.]\n",
            " [0. 1. 0. ... 1. 0. 0.]\n",
            " ...\n",
            " [0. 0. 0. ... 0. 1. 0.]\n",
            " [0. 0. 0. ... 1. 0. 0.]\n",
            " [1. 0. 0. ... 0. 0. 0.]], shape=(90, 804), dtype=float64)\n"
          ]
        }
      ]
    },
    {
      "cell_type": "code",
      "metadata": {
        "id": "sM5ivtc4au73"
      },
      "source": [
        "#Skriver tsv filer \n",
        "\n",
        "seq_train.to_csv(\"seq_train_few.tsv\", sep=\"\\t\")\n",
        "seq_val.to_csv(\"seq_val_few.tsv\", sep=\"\\t\")\n",
        "seq_test.to_csv(\"seq_test_few.tsv\", sep=\"\\t\")\n"
      ],
      "execution_count": null,
      "outputs": []
    },
    {
      "cell_type": "code",
      "metadata": {
        "id": "WY1LZcg_au74"
      },
      "source": [
        ""
      ],
      "execution_count": null,
      "outputs": []
    }
  ]
}